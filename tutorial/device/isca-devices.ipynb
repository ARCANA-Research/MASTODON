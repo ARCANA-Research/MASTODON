{
 "cells": [
  {
   "cell_type": "markdown",
   "metadata": {},
   "source": [
    "# Circuit & Device Modeling"
   ]
  },
  {
   "cell_type": "markdown",
   "metadata": {},
   "source": [
    "## 1. Supported Verilog-A Models"
   ]
  },
  {
   "cell_type": "markdown",
   "metadata": {},
   "source": [
    "We support two kinds of Verilog-A models:\n",
    "- You can either write your own Verilog-A model for the device, or\n",
    "- You can fit your device to one of the pre-defined models for the following memory technologies:\n",
    "    - Resistive Random Access Memory (ReRAM) [1]\n",
    "    - Ferrorelectric Tunnel Junction (FTJ) [2]\n",
    "\n",
    "[1] S. Kvatinsky, M. Ramadan, E. G. Friedman, and A. Kolodny, \"VTEAM – A General Model for Voltage Controlled Memristor\", Transactions on Circuits and Systems II: Express Briefs, Vol. 62, No. 8, pp. 786-790, August 2015 <br>\n",
    "\n",
    "[2] Z. Wang, W. Zhao, W. Kang, Y. Zhang, J. O. Klein, D. Ravelosona, and C. Chappert, \"Compact Modelling of Ferroelectric Tunnel Memristor and its Use for Neuromorphic Simulation,\" Appl. Phys. Lett., vol. 104, no. 5, pp. 053505, 2014. DOI: 10.1063/1.4864270"
   ]
  },
  {
   "cell_type": "markdown",
   "metadata": {},
   "source": [
    "<center>\n",
    "    <img src=\"different_verilogA_models.png\" width=\"600\">\n",
    "</center>"
   ]
  },
  {
   "cell_type": "markdown",
   "metadata": {},
   "source": [
    "### 1.1. ReRAM Memory Technology - VTEAM Model"
   ]
  },
  {
   "cell_type": "markdown",
   "metadata": {},
   "source": [
    "We use the pre-defined model for ReRAM memory technology and fit it to two different ReRAM device [3, 4] as per the following parameters:\n",
    "\n",
    "<center>\n",
    "    <img src=\"ReRAM Model Fitting Parameter.png\" width=\"600\">\n",
    "</center>\n",
    "\n",
    "<br>\n",
    "\n",
    "Although both the devices are of same memory technology, they differ widely in their behavior.\n",
    "\n",
    "<center>\n",
    "    <img src=\"High-level Overview.png\" width=\"600\">\n",
    "</center>\n",
    "\n",
    "<br>\n",
    "\n",
    "[3] S. Kvatinsky, D. Belousov, S. Liman, G. Satat, N. Wald, E. G. Friedman, A. Kolodny, and U. C. Weiser, \"MAGIC – Memristor Aided LoGIC\", IEEE Transactions on Circuits and Systems II: Express Briefs, Vol. 61, No. 11, pp. 895- 899, November 2014. <br>\n",
    "\n",
    "[4] M. Imani, S. Gupta, Y. Kim and T. Rosing, \"FloatPIM: In-Memory Acceleration of Deep Neural Network Training with High Precision,\" 2019 ACM/IEEE 46th Annual International Symposium on Computer Architecture (ISCA), Phoenix, AZ, USA, 2019, pp. 802-815.\n",
    "\n"
   ]
  },
  {
   "cell_type": "code",
   "execution_count": null,
   "metadata": {
    "vscode": {
     "languageId": "shellscript"
    }
   },
   "outputs": [],
   "source": [
    "import os\n",
    "home = \"/home/demo/\" #your homedir\n",
    "os.chdir(str(home + \"Mastodon\"))"
   ]
  },
  {
   "cell_type": "markdown",
   "metadata": {},
   "source": [
    "### 1.2. Creating a ReRAM Verilog-A Model"
   ]
  },
  {
   "cell_type": "code",
   "execution_count": null,
   "metadata": {
    "vscode": {
     "languageId": "shellscript"
    }
   },
   "outputs": [],
   "source": [
    "%%writefile ./src/device-model-plugins/device_models/ReRAM_VTEAM.va\n",
    "\n",
    "`include \"disciplines.vams\"\n",
    "`include \"constants.h\"\n",
    "\n",
    "module Memristor(p, n, w_position);\n",
    "    inout p, n;\n",
    "    output w_position;\n",
    " \n",
    "    electrical p, n, w_position;\n",
    " \n",
    "    parameter real initial_state = 0;\n",
    "    parameter real R_HRS = 300e3;\n",
    "    parameter real R_LRS = 1e3;\n",
    "    parameter real K_SET = -216.2;\n",
    "    parameter real K_RESET = 0.091;\n",
    "    parameter real Alpha_SET = 4;\n",
    "    parameter real Alpha_RESET = 4;\n",
    "    parameter real V_SET = -1.5;\n",
    "    parameter real V_RESET = 0.3;\n",
    "    parameter real IV_relation = 1;\n",
    "    parameter real x_on = 0;\n",
    "    parameter real x_off = 3e-09;\n",
    "    parameter real D = 3e-9;\n",
    "\n",
    "    real R;\n",
    "    real first_iteration = 0;\n",
    "    real x;\n",
    "    real dxdt;\n",
    "    real x_last;\n",
    "    real l;\n",
    "    real tp1;\n",
    "    real t1;\n",
    "    real dt;\n",
    " \n",
    "    analog \n",
    "    begin\n",
    "        if(first_iteration==0) \n",
    "        begin   \n",
    "            x_last=(1-initial_state)*D;    \n",
    "        end\n",
    "    \n",
    "        tp1 = $abstime;\n",
    "        dt = tp1 - t1;\n",
    "\n",
    "        if (V(p,n) <= V_SET) \n",
    "        begin\n",
    "            dxdt = K_SET*pow((V(p,n)/V_SET-1), Alpha_SET);\n",
    "        end\n",
    "        else if (V(p,n) >= V_RESET) \n",
    "        begin \n",
    "            dxdt = K_RESET*pow((V(p,n)/V_RESET-1), Alpha_RESET);\n",
    "        end\n",
    "        else \n",
    "        begin\n",
    "            dxdt=0;\n",
    "        end\n",
    "\n",
    "        x = x_last+dt*dxdt;\n",
    "        x_last=x;\n",
    "        \n",
    "        if (x >= D) \n",
    "        begin\n",
    "            dxdt=0;             \n",
    "            x=D;\n",
    "        end\n",
    "        else if (x <= 0) \n",
    "        begin\n",
    "            dxdt=0;\n",
    "            x=0;\n",
    "        end\n",
    "                        \n",
    "        l = ln(R_HRS/R_LRS);\n",
    "            \n",
    "        if (IV_relation==0) \n",
    "        begin \n",
    "            I(p,n) <+ V(p,n)/(R_HRS*x/D+R_LRS*(1-x/D));\n",
    "        end\n",
    "        else if (IV_relation==1) \n",
    "        begin \n",
    "            I(p,n) <+ V(p,n)/(R_LRS*exp(l*(x-x_on)/(x_off-x_on)));  \n",
    "        end\n",
    "    \n",
    "        t1 = $abstime;\n",
    "        first_iteration=1;  \n",
    "\n",
    "        V(w_position) <+ 1 - (x/D);                               \n",
    "    end                                            \n",
    "endmodule"
   ]
  },
  {
   "cell_type": "markdown",
   "metadata": {},
   "source": [
    "## 2. Adding Device-Level Configuration Parameters"
   ]
  },
  {
   "cell_type": "code",
   "execution_count": null,
   "metadata": {
    "vscode": {
     "languageId": "shellscript"
    }
   },
   "outputs": [],
   "source": [
    "%%writefile -a ./tutorial/device/CMPEQ.config\n",
    "\n",
    "//Device Level Parameters\n",
    "device_model_sim = true\n",
    "memorisation = true\n",
    "verilog_filename = ReRAM_VTEAM\n",
    "volt_MAGIC = -1.4\n",
    "volt_SET = -1.7\n",
    "volt_RESET = 0.4\n",
    "volt_ISO_BL = -0.28\n",
    "volt_ISO_WL = -0.3\n",
    "second_cycle_time = 0.0002\n",
    "second_step_size = 50e-6\n",
    "ohm_R = 2.925\n",
    "farad_C = 1e-15\n",
    "state_threshold = 0.5"
   ]
  },
  {
   "cell_type": "markdown",
   "metadata": {},
   "source": [
    "### 2.1. Simulating CMPEQ Instruction"
   ]
  },
  {
   "cell_type": "code",
   "execution_count": null,
   "metadata": {},
   "outputs": [],
   "source": [
    "%%writefile ./tutorial/device/CMPEQ.rc\n",
    "\n",
    "COMPUTE 0 0\n",
    "CMPEQ 0 1\n",
    "COMPUTE_DONE\n",
    "FLUSH\n",
    "EOF"
   ]
  },
  {
   "cell_type": "code",
   "execution_count": null,
   "metadata": {},
   "outputs": [],
   "source": [
    "!./tutorial/device/init.sh #Make the init xml files needed"
   ]
  },
  {
   "cell_type": "code",
   "execution_count": null,
   "metadata": {},
   "outputs": [],
   "source": [
    "#Change to the demo_dir\n",
    "cwd = os.getcwd()\n",
    "deviceDemoDir = str(cwd + \"/tutorial/device/\")\n",
    "os.chdir(deviceDemoDir)"
   ]
  },
  {
   "cell_type": "code",
   "execution_count": null,
   "metadata": {},
   "outputs": [],
   "source": [
    "!./run_mastodon.sh"
   ]
  },
  {
   "cell_type": "code",
   "execution_count": null,
   "metadata": {},
   "outputs": [],
   "source": [
    "#Change back to top-level dir\n",
    "os.chdir(str(home + \"Mastodon\"))"
   ]
  },
  {
   "cell_type": "markdown",
   "metadata": {},
   "source": [
    "## 3. Effect of Cycle Time and Assertion Voltage on Data Errors"
   ]
  },
  {
   "cell_type": "markdown",
   "metadata": {},
   "source": [
    "### 3.1. Changing Cycle Time"
   ]
  },
  {
   "cell_type": "code",
   "execution_count": null,
   "metadata": {},
   "outputs": [],
   "source": [
    "filename = './tutorial/device/CMPEQ.config'\n",
    "\n",
    "def update_config(filename, updates):\n",
    "    with open(filename, 'r') as file:\n",
    "        lines = file.readlines()  \n",
    "\n",
    "    updated_lines = []\n",
    "    for line in lines:\n",
    "        for key, value in updates.items():\n",
    "            if line.strip().startswith(key): \n",
    "                line = f'{key} = {value}\\n'  \n",
    "        updated_lines.append(line) \n",
    "\n",
    "    with open(filename, 'w') as file:\n",
    "        file.writelines(updated_lines)\n",
    "\n",
    "updates = {\n",
    "           'second_cycle_time': 0.0004      ###  Changing the cycle time from 200 microsecond to 400 microsecond  ###\n",
    "}\n",
    "\n",
    "update_config(filename, updates)"
   ]
  },
  {
   "cell_type": "code",
   "execution_count": null,
   "metadata": {},
   "outputs": [],
   "source": [
    "#Change to the demo_dir\n",
    "os.chdir(deviceDemoDir)\n",
    "!./run_mastodon.sh"
   ]
  },
  {
   "cell_type": "markdown",
   "metadata": {},
   "source": [
    "### 3.2. Changing Assertion Voltage"
   ]
  },
  {
   "cell_type": "code",
   "execution_count": null,
   "metadata": {},
   "outputs": [],
   "source": [
    "#Change back to top-level dir\n",
    "os.chdir(str(home + \"Mastodon\"))\n",
    "\n",
    "updates = {\n",
    "           'volt_MAGIC': -1.5,        ###  Changing the assertion voltage from -1.40 V to -1.50 V  ###\n",
    "           'volt_ISO_BL': -0.3,       ###  Changing the isolation voltage from -0.28 V to -0.30 V  ###\n",
    "}\n",
    "\n",
    "update_config(filename, updates)"
   ]
  },
  {
   "cell_type": "code",
   "execution_count": null,
   "metadata": {},
   "outputs": [],
   "source": [
    "#Change to the demo_dir\n",
    "os.chdir(deviceDemoDir)\n",
    "!./run_mastodon.sh"
   ]
  },
  {
   "cell_type": "code",
   "execution_count": null,
   "metadata": {},
   "outputs": [],
   "source": [
    "#Change back to top-level dir\n",
    "os.chdir(str(home + \"Mastodon\"))"
   ]
  },
  {
   "cell_type": "markdown",
   "metadata": {},
   "source": [
    "### 3.3. Error Analysis for CMPEQ Instruction"
   ]
  },
  {
   "cell_type": "code",
   "execution_count": null,
   "metadata": {},
   "outputs": [],
   "source": [
    "import matplotlib.pyplot as plt\n",
    "import numpy as np\n",
    "from PIL import Image\n",
    "\n",
    "error_CMPEQ = {\n",
    "    '500': {'-1.3': 0.98, '-1.4': 0.80, '-1.5': 0.00, '-1.6': 0.41},\n",
    "    '400': {'-1.3': 0.98, '-1.4': 0.86, '-1.5': 0.00, '-1.6': 0.51},\n",
    "    '300': {'-1.3': 0.98, '-1.4': 0.87, '-1.5': 0.09, '-1.6': 0.51},\n",
    "    '200': {'-1.3': 0.98, '-1.4': 0.88, '-1.5': 0.22, '-1.6': 0.77},\n",
    "    '100': {'-1.3': 0.98, '-1.4': 0.98, '-1.5': 0.98, '-1.6': 0.77}\n",
    "}\n",
    "\n",
    "# Function to convert the dictionary to a numpy array and labels for plotting\n",
    "def dict_to_heatmap_data(data):\n",
    "    rows = sorted(data.keys(), key=int)\n",
    "    cols = sorted(next(iter(data.values())).keys(), key=float)\n",
    "    heatmap_data = np.array([[data[r][c] for c in cols] for r in rows])\n",
    "    return heatmap_data, rows, cols\n",
    "\n",
    "# Function to plot heatmap using matplotlib\n",
    "def plot_heatmap(ax, data, title):\n",
    "    heatmap_data, row_labels, col_labels = dict_to_heatmap_data(data)\n",
    "    col_labels = col_labels[::-1]\n",
    "    heatmap_data = heatmap_data[:, ::-1]\n",
    "    row_labels = row_labels[::-1]\n",
    "    heatmap_data = heatmap_data[::-1, :]\n",
    "    cax = ax.matshow(heatmap_data, cmap='RdYlGn_r', aspect='auto', vmin = 0, vmax = 1)\n",
    "    ax.set_title(title)\n",
    "    ax.set_xticks(np.arange(len(col_labels)))\n",
    "    ax.set_xticklabels(col_labels, fontsize = 15)\n",
    "    ax.set_yticks(np.arange(len(row_labels)))\n",
    "    ax.set_yticklabels(row_labels, fontsize = 15)\n",
    "    for i in range(len(row_labels)):\n",
    "        for j in range(len(col_labels)):\n",
    "            text = ax.text(j, i, f\"{heatmap_data[i, j]:.2f}\", fontsize = 15,\n",
    "                           ha=\"center\", va=\"center\", color=\"black\")\n",
    "            \n",
    "            rect = plt.Rectangle((j - 0.5, i - 0.5), 1, 1, fill=False, edgecolor='black', linewidth=1)\n",
    "            ax.add_patch(rect)\n",
    "            \n",
    "    ax.xaxis.set_ticks_position('bottom')\n",
    "    ax.xaxis.set_label_position('bottom')\n",
    "    ax.set_xlabel('Assertion Voltage (V)', fontsize = 15)\n",
    "    return cax\n",
    "\n",
    "# Create a figure and a grid of subplots\n",
    "fig, axes = plt.subplots(1, 1, figsize=(6, 6))\n",
    "\n",
    "# Plot each heatmap\n",
    "cax = plot_heatmap(axes, error_CMPEQ, 'Ratio of Incorrect NOR Operations - CMPEQ')\n",
    "\n",
    "axes.set_title('Ratio of Incorrect NOR Operations - CMPEQ', fontsize = 20, weight = \"bold\")\n",
    "axes.set_ylabel('Cycle Time (us)', fontsize = 15)\n",
    "\n",
    "\n",
    "# Adjust layout and add colorbars\n",
    "fig.colorbar(cax, ax=axes)\n",
    "\n",
    "plt.tight_layout()\n",
    "\n",
    "\n",
    "plt.show()"
   ]
  },
  {
   "cell_type": "markdown",
   "metadata": {},
   "source": [
    "### 3.4. Error Analysis across Multiple Instructions and Devices"
   ]
  },
  {
   "cell_type": "code",
   "execution_count": null,
   "metadata": {},
   "outputs": [],
   "source": [
    "# Define the dictionaries\n",
    "error_MUL8_device_1 = {\n",
    "    '500': {'-1.3': 0.46, '-1.4': 0.37, '-1.5': 0.00, '-1.6': 0.32},\n",
    "    '400': {'-1.3': 0.46, '-1.4': 0.37, '-1.5': 0.13, '-1.6': 0.32},\n",
    "    '300': {'-1.3': 0.46, '-1.4': 0.44, '-1.5': 0.28, '-1.6': 0.33},\n",
    "    '200': {'-1.3': 0.46, '-1.4': 0.44, '-1.5': 0.42, '-1.6': 0.32},\n",
    "    '100': {'-1.3': 0.48, '-1.4': 0.46, '-1.5': 0.44, '-1.6': 0.32}\n",
    "}\n",
    "\n",
    "error_POPC8_device_1 = {\n",
    "    '500': {'-1.3': 0.98, '-1.4': 0.78, '-1.5': 0.01, '-1.6': 0.41},\n",
    "    '400': {'-1.3': 0.98, '-1.4': 0.78, '-1.5': 0.07, '-1.6': 0.51},\n",
    "    '300': {'-1.3': 0.98, '-1.4': 0.78, '-1.5': 0.48, '-1.6': 0.51},\n",
    "    '200': {'-1.3': 0.98, '-1.4': 0.92, '-1.5': 0.79, '-1.6': 0.54},\n",
    "    '100': {'-1.3': 0.98, '-1.4': 0.98, '-1.5': 0.98, '-1.6': 0.54}\n",
    "}\n",
    "\n",
    "error_CMPEQ_device_1 = {\n",
    "    '500': {'-1.3': 0.98, '-1.4': 0.80, '-1.5': 0.00, '-1.6': 0.41},\n",
    "    '400': {'-1.3': 0.98, '-1.4': 0.86, '-1.5': 0.00, '-1.6': 0.51},\n",
    "    '300': {'-1.3': 0.98, '-1.4': 0.87, '-1.5': 0.09, '-1.6': 0.51},\n",
    "    '200': {'-1.3': 0.98, '-1.4': 0.88, '-1.5': 0.22, '-1.6': 0.77},\n",
    "    '100': {'-1.3': 0.98, '-1.4': 0.98, '-1.5': 0.98, '-1.6': 0.77}\n",
    "}\n",
    "\n",
    "error_MUL8_device_2 = {\n",
    "    '900': {'-5': 0.32, '-5.5': 0.28, '-6': 0.00, '-6.5': 0.40},\n",
    "    '800': {'-5': 0.32, '-5.5': 0.29, '-6': 0.05, '-6.5': 0.40},\n",
    "    '700': {'-5': 0.38, '-5.5': 0.33, '-6': 0.21, '-6.5': 0.40},\n",
    "    '600': {'-5': 0.38, '-5.5': 0.39, '-6': 0.31, '-6.5': 0.42},\n",
    "    '500': {'-5': 0.44, '-5.5': 0.39, '-6': 0.39, '-6.5': 0.40}\n",
    "}\n",
    "\n",
    "error_POPC8_device_2 = {\n",
    "    '900': {'-5': 0.93, '-5.5': 0.79, '-6': 0.09, '-6.5': 0.88},\n",
    "    '800': {'-5': 0.95, '-5.5': 0.79, '-6': 0.32, '-6.5': 0.88},\n",
    "    '700': {'-5': 0.95, '-5.5': 0.80, '-6': 0.65, '-6.5': 0.89},\n",
    "    '600': {'-5': 0.95, '-5.5': 0.93, '-6': 0.75, '-6.5': 0.90},\n",
    "    '500': {'-5': 0.95, '-5.5': 0.98, '-6': 0.91, '-6.5': 0.91}\n",
    "}\n",
    "\n",
    "error_CMPEQ_device_2 = {\n",
    "    '900': {'-5': 0.93, '-5.5': 0.75, '-6': 0.00, '-6.5': 0.85},\n",
    "    '800': {'-5': 0.95, '-5.5': 0.75, '-6': 0.19, '-6.5': 0.86},\n",
    "    '700': {'-5': 0.95, '-5.5': 0.78, '-6': 0.42, '-6.5': 0.86},\n",
    "    '600': {'-5': 0.95, '-5.5': 0.83, '-6': 0.70, '-6.5': 0.89},\n",
    "    '500': {'-5': 0.95, '-5.5': 0.91, '-6': 0.91, '-6.5': 0.92}\n",
    "}\n",
    "\n",
    "# Create a figure and a grid of subplots\n",
    "fig, axes = plt.subplots(2, 3, figsize=(18, 10))\n",
    "\n",
    "# Plot each heatmap\n",
    "cax1 = plot_heatmap(axes[0, 0], error_MUL8_device_1, 'MUL8 Device 1')\n",
    "cax2 = plot_heatmap(axes[0, 1], error_POPC8_device_1, 'POPC8 Device 1')\n",
    "cax3 = plot_heatmap(axes[0, 2], error_CMPEQ_device_1, 'CMPEQ Device 1')\n",
    "cax4 = plot_heatmap(axes[1, 0], error_MUL8_device_2, 'MUL8 Device 2')\n",
    "cax5 = plot_heatmap(axes[1, 1], error_POPC8_device_2, 'POPC8 Device 2')\n",
    "cax6 = plot_heatmap(axes[1, 2], error_CMPEQ_device_2, 'CMPEQ Device 2')\n",
    "\n",
    "axes[0, 0].set_title('MUL8 - Device 1', fontsize = 15)\n",
    "axes[0, 0].set_ylabel('Cycle Time (us)', fontsize = 15)\n",
    "axes[0, 1].set_title('POPC8 - Device 1', fontsize = 15)\n",
    "axes[0, 1].set_ylabel('Cycle Time (us)', fontsize = 15)\n",
    "axes[0, 2].set_title('CMPEQ - Device 1', fontsize = 15)\n",
    "axes[0, 2].set_ylabel('Cycle Time (us)', fontsize = 15)\n",
    "\n",
    "axes[1, 0].set_title('MUL8 - Device 2', fontsize = 15)\n",
    "axes[1, 0].set_ylabel('Cycle Time (ms)', fontsize = 15)\n",
    "axes[1, 1].set_title('POPC8 - Device 2', fontsize = 15)\n",
    "axes[1, 1].set_ylabel('Cycle Time (ms)', fontsize = 15)\n",
    "axes[1, 2].set_title('CMPEQ - Device 2', fontsize = 15)\n",
    "axes[1, 2].set_ylabel('Cycle Time (ms)', fontsize = 15)\n",
    "\n",
    "# Adjust layout and add colorbars\n",
    "fig.colorbar(cax1, ax=axes[0, 0])\n",
    "fig.colorbar(cax2, ax=axes[0, 1])\n",
    "fig.colorbar(cax3, ax=axes[0, 2])\n",
    "fig.colorbar(cax4, ax=axes[1, 0])\n",
    "fig.colorbar(cax5, ax=axes[1, 1])\n",
    "fig.colorbar(cax6, ax=axes[1, 2])\n",
    "\n",
    "plt.suptitle(\"Error Analysis across Multiple Instructions & Devices\", fontsize=30, weight='bold')\n",
    "# plt.tight_layout()\n",
    "line_y_position = (axes[0, 0].get_position().y0 + axes[1, 0].get_position().y1 - 0.03) / 2\n",
    "fig.add_artist(plt.Line2D((0, 1), (line_y_position, line_y_position), color='black', linestyle='--', linewidth=2))\n",
    "plt.subplots_adjust(hspace=0.4)\n",
    "\n",
    "\n",
    "\n",
    "plt.show()"
   ]
  },
  {
   "cell_type": "code",
   "execution_count": null,
   "metadata": {},
   "outputs": [],
   "source": [
    "error_MUL8_per_tile = {'0': 0.83,\n",
    "                       '1': 0.86,\n",
    "                       '2': 0.89,\n",
    "                       '3': 1.00,\n",
    "                       '4': 0.00,\n",
    "                       '5': 0.00,\n",
    "                       '6': 0.00,\n",
    "                       '7': 0.00}\n",
    "\n",
    "# Convert dictionary keys and values to lists\n",
    "x = list(error_MUL8_per_tile.keys())\n",
    "y = list(error_MUL8_per_tile.values())\n",
    "\n",
    "# Plot the data\n",
    "fig, ax = plt.subplots(figsize=(10, 6))\n",
    "ax.plot(x, y, marker='o', linestyle='-', color='b')\n",
    "ax.fill_between(x, 0, 1, where=[0 <= int(tile) <= 3 for tile in x], color='lightcoral', alpha=0.5)\n",
    "ax.set_xlim(-0.1, 7.1)\n",
    "\n",
    "# Add title and labels\n",
    "ax.set_title('Error Per Bit for MUL8', fontsize=20, weight='bold')\n",
    "ax.set_xlabel('Bit Number', fontsize=14)\n",
    "ax.set_ylabel('Ratio of Incorrect NOR Operations', fontsize=14)\n",
    "\n",
    "# Set tick font size\n",
    "ax.tick_params(axis='both', which='major', labelsize=14)\n",
    "\n",
    "# Show grid\n",
    "plt.grid(True)\n",
    "\n",
    "# Show plot\n",
    "plt.show()\n"
   ]
  },
  {
   "cell_type": "markdown",
   "metadata": {},
   "source": [
    "## 4. Discrete Fourier Transform (DFT) with ReRAM Memory Technology"
   ]
  },
  {
   "cell_type": "code",
   "execution_count": null,
   "metadata": {},
   "outputs": [],
   "source": [
    "def read_text_file_to_array(filename):\n",
    "    with open(filename, 'r') as file:\n",
    "        lines = file.readlines()\n",
    "\n",
    "    # Convert lines of text into a 2D list of integers\n",
    "    data = [list(map(int, line.split())) for line in lines]\n",
    "    return np.abs(np.array(np.array(data)[1:]).T[1:])\n",
    "\n",
    "def normalize_pixel_values(array):\n",
    "    # Normalize pixel values to range [0, 255] if necessary\n",
    "    min_val = np.min(array)\n",
    "    max_val = np.max(array)\n",
    "    if min_val < 0 or max_val > 255:\n",
    "        array = 255 * (array - min_val) / (max_val - min_val)\n",
    "    return array.astype(np.uint8)\n",
    "    \n",
    "def convert_negative(array):\n",
    "    output = []\n",
    "    for row in array:\n",
    "        converted_row = []\n",
    "        for elem in row:\n",
    "            if (elem > 4294967296):\n",
    "                elem = ~elem + 1\n",
    "            converted_row.append(elem)\n",
    "        output.append(converted_row)\n",
    "    return np.asarray(output)\n",
    "    \n",
    "def display_image(array):\n",
    "    plt.imshow(array, cmap='gray', vmin=0, vmax=255)\n",
    "    plt.axis('off')  # Turn off axis numbers and ticks\n",
    "    plt.show()\n",
    "\n",
    "def display_images_side_by_side(filenames):\n",
    "    images = []\n",
    "    titles = [\"Cycle 0\", \"Cycle 20000\", \"Cycle 40000\", \"Cycle 60000\", \"Cycle 80000\", \"Cycle 100000\", \"Cycle 120000\", \"Cycle 140000\"]\n",
    "\n",
    "    for filename in filenames:\n",
    "        array = read_text_file_to_array(filename)\n",
    "        array = normalize_pixel_values(array)\n",
    "        array = convert_negative(array)\n",
    "        images.append(array)\n",
    "    \n",
    "    # Display images in a 2x4 grid (last cell empty)\n",
    "    fig, axes = plt.subplots(2, 4, figsize=(20, 10))\n",
    "\n",
    "    for i, ax in enumerate(axes.flat):\n",
    "        if i < len(images):\n",
    "            ax.imshow(images[i], cmap='gray', vmin=0, vmax=255)\n",
    "            ax.set_title(titles[i], fontsize=20)\n",
    "        ax.axis('off')\n",
    "    \n",
    "    # Add a single title for the entire figure\n",
    "    plt.suptitle(\"Evolution of DFT Matrix\", fontsize=30, weight='bold')\n",
    "    # plt.tight_layout()\n",
    "    plt.show()\n",
    "\n",
    "# List of filenames\n",
    "filenames = [\n",
    "    './tutorial/device/dft_mat/dft_mat_0.txt',\n",
    "    './tutorial/device/dft_mat/dft_mat_20000.txt',\n",
    "    './tutorial/device/dft_mat/dft_mat_40000.txt',\n",
    "    './tutorial/device/dft_mat/dft_mat_60000.txt',\n",
    "    './tutorial/device/dft_mat/dft_mat_80000.txt',\n",
    "    './tutorial/device/dft_mat/dft_mat_100000.txt',\n",
    "    './tutorial/device/dft_mat/dft_mat_120000.txt',\n",
    "    './tutorial/device/dft_mat/dft_mat_140000.txt'\n",
    "]\n",
    "\n",
    "display_images_side_by_side(filenames)"
   ]
  },
  {
   "cell_type": "code",
   "execution_count": null,
   "metadata": {},
   "outputs": [],
   "source": []
  }
 ],
 "metadata": {
  "kernelspec": {
   "display_name": "Python 3 (ipykernel)",
   "language": "python",
   "name": "python3"
  },
  "language_info": {
   "codemirror_mode": {
    "name": "ipython",
    "version": 3
   },
   "file_extension": ".py",
   "mimetype": "text/x-python",
   "name": "python",
   "nbconvert_exporter": "python",
   "pygments_lexer": "ipython3",
   "version": "3.10.12"
  }
 },
 "nbformat": 4,
 "nbformat_minor": 4
}
