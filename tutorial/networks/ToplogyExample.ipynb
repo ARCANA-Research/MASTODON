{
 "cells": [
  {
   "cell_type": "markdown",
   "id": "36d4fbc9-3208-481c-ac17-c29deec51db5",
   "metadata": {},
   "source": [
    "\n",
    "# Examining the Impact of Network Topologies \n",
    "\n",
    "In this example, we instantiate 16 nodes. **Node0** acts as a sender while **Node15** acts as a receiver.\n",
    "\n",
    "**Nodes1-15** are computing an independent, self-contained addition program and does not interface with the network.\n",
    "                        \n",
    "\n",
    "We explore three different topologies in this demo; however, you can modify the topology to other models supported by Merlin. \n",
    "\n",
    "Users may also opt to define their own topologies, as an extension to SST.\n"
   ]
  },
  {
   "attachments": {},
   "cell_type": "markdown",
   "id": "d8382f4d-e39e-42ea-840b-262da1127227",
   "metadata": {},
   "source": [
    "## 2.1) 1-D Mesh\n",
    "<center>\n",
    "     <img src=\"Figures/1DMesh.png\" width=\"600\">\n",
    "</center>"
   ]
  },
  {
   "cell_type": "code",
   "execution_count": null,
   "id": "6965bee9-2afa-44bf-8a3f-7844a836260f",
   "metadata": {
    "scrolled": true
   },
   "outputs": [],
   "source": [
    "#Paths and imports\n",
    "\n",
    "import os, sys\n",
    "import subprocess \n",
    "\n",
    "networkDemoPath = os.getcwd()\n",
    "networkDemoPath = networkDemoPath + \"/../../network_demo\" #Insert the path the to the demo-code folder\n",
    "os.chdir(networkDemoPath)\n",
    "!source ~/.bashrc\n",
    "!!rm data.*.xml > /dev/null\n",
    "!!rm stat.*.xml > /dev/null\n",
    "\n",
    "!!pwd #Output should be a path to the demo-code folder"
   ]
  },
  {
   "cell_type": "code",
   "execution_count": null,
   "id": "61e3ce92-2656-492b-8e8d-27c27181bca3",
   "metadata": {
    "scrolled": true
   },
   "outputs": [],
   "source": [
    "#Book keeping for paths for topology demo\n",
    "#16 Nodes\n",
    "\n",
    "#setup the paths\n",
    "topologyExample = os.path.join(networkDemoPath,\"demo_networks\")\n",
    "mesh1DExamplePy = os.path.join(topologyExample, \"mesh1d.py\")\n",
    "simpleAdd = os.path.join(topologyExample, \"simple_add.rc\")\n",
    "simpleSend = os.path.join(topologyExample, \"simple_send.rc\")\n",
    "simpleRecv = os.path.join(topologyExample, \"simple_recv.rc\")\n",
    "\n",
    "#Output Files\n",
    "outNode0 = os.path.join(networkDemoPath,\"data.0.xml\")\n",
    "outNode1 = os.path.join(networkDemoPath,\"data.1.xml\")\n",
    "outNode2 = os.path.join(networkDemoPath,\"data.2.xml\")\n",
    "outNode15 = os.path.join(networkDemoPath,\"data.15.xml\")\n",
    "\n",
    "!!ls $topologyExample #This should list 3 {topology}.py files and 3 programs (send, recv, add)"
   ]
  },
  {
   "cell_type": "code",
   "execution_count": null,
   "id": "1f375e01-3fc6-440f-93da-1f6cfad0bbcd",
   "metadata": {
    "scrolled": true
   },
   "outputs": [],
   "source": [
    "#Let's take a look at what we'll be executing\n",
    "\n",
    "f = open(mesh1DExamplePy, \"r\")\n",
    "print(f.read())\n",
    "f.close()"
   ]
  },
  {
   "cell_type": "code",
   "execution_count": null,
   "id": "b082eed1-cab6-4168-8783-5f25ca85d892",
   "metadata": {
    "scrolled": true
   },
   "outputs": [],
   "source": [
    "#Run this to see the add program.\n",
    "\n",
    "f = open(simpleAdd, \"r\")\n",
    "print(f.read())\n",
    "f.close()"
   ]
  },
  {
   "cell_type": "code",
   "execution_count": null,
   "id": "ef52ad37-9e75-46e0-946f-aa81009a377f",
   "metadata": {
    "scrolled": true
   },
   "outputs": [],
   "source": [
    "#Execute Simulation\n",
    "subprocess.run([\"sst\", mesh1DExamplePy])"
   ]
  },
  {
   "cell_type": "code",
   "execution_count": null,
   "id": "291dc8d1-0908-4fad-a6da-b7f9b35ac2a4",
   "metadata": {
    "scrolled": true
   },
   "outputs": [],
   "source": [
    "#Take a look at the output file for Node0. By default, we used lane 1, RF 1.\n",
    "\n",
    "n = open(outNode0, 'r')\n",
    "print(n.read())\n",
    "n.close()"
   ]
  },
  {
   "cell_type": "code",
   "execution_count": null,
   "id": "1f004f65-b0c1-4694-8f39-185176730ef5",
   "metadata": {
    "scrolled": true
   },
   "outputs": [],
   "source": [
    "#Take a look atht eh output file for Node1. (Add Prog.)\n",
    "\n",
    "n = open(outNode1, 'r')\n",
    "print(n.read())\n",
    "n.close()"
   ]
  },
  {
   "cell_type": "code",
   "execution_count": null,
   "id": "c3e4058c-e8ae-4311-9f38-d09809e3dda4",
   "metadata": {
    "scrolled": true
   },
   "outputs": [],
   "source": [
    "#Take a look at the output file for Node15. By default, we used lane 1, RF 1.\n",
    "\n",
    "n = open(outNode15, 'r')\n",
    "print(n.read())\n",
    "n.close()"
   ]
  },
  {
   "cell_type": "markdown",
   "id": "bf39a853-4268-4d19-8167-3e1e434f7bea",
   "metadata": {},
   "source": [
    "## 2.2) Let's turn our 1D-Mesh into a 2D-mesh\n",
    "\n",
    "<center>\n",
    "     <img src=\"Figures/2DMesh.png\" width=\"600\">\n",
    "</center>"
   ]
  },
  {
   "cell_type": "code",
   "execution_count": null,
   "id": "98588964-f5ee-4664-b869-572890d63357",
   "metadata": {
    "scrolled": true
   },
   "outputs": [],
   "source": [
    "mesh2DExamplePy = os.path.join(topologyExample, \"mesh2d.py\")\n",
    "f = open(mesh2DExamplePy, \"r\")\n",
    "print(f.read())\n",
    "f.close()"
   ]
  },
  {
   "cell_type": "markdown",
   "id": "efba73de-0a6d-447f-8df8-fc25ccc09616",
   "metadata": {},
   "source": [
    "Notice that the merlinemeshparams, \"mesh.shape\" is changed."
   ]
  },
  {
   "cell_type": "code",
   "execution_count": null,
   "id": "f0c2fa8f-d274-4360-a254-699bb9b9468c",
   "metadata": {
    "scrolled": true
   },
   "outputs": [],
   "source": [
    "#Execute and notice the change in latency. Feel free to go back and re-run mesh1DExamplePy\n",
    "subprocess.run([\"sst\", mesh2DExamplePy])"
   ]
  },
  {
   "cell_type": "markdown",
   "id": "be45ba67-d73f-4b16-83e0-1f7082865786",
   "metadata": {},
   "source": [
    "## 2.3) Let's turn our 2D-Mesh into a 2D-Torus\n",
    "\n",
    "<center>\n",
    "     <img src=\"Figures/Torus.png\" width=\"600\">\n",
    "</center>"
   ]
  },
  {
   "cell_type": "code",
   "execution_count": null,
   "id": "0dff68ab-4413-4d03-a866-db2119dd3fd5",
   "metadata": {
    "scrolled": true
   },
   "outputs": [],
   "source": [
    "torusExamplePy = os.path.join(topologyExample, \"torus.py\")\n",
    "f = open(torusExamplePy, \"r\")\n",
    "print(f.read())\n",
    "f.close()"
   ]
  },
  {
   "cell_type": "markdown",
   "id": "fb69b20d-e791-426a-ab7d-15d92c2b12fb",
   "metadata": {},
   "source": [
    "Notice that **merlinmeshparams** is now **merlintorusparams**, and **topo = topoTorus()**"
   ]
  },
  {
   "cell_type": "code",
   "execution_count": null,
   "id": "9140092a-fc9c-4554-a088-32072e38383c",
   "metadata": {
    "scrolled": true
   },
   "outputs": [],
   "source": [
    "#Execute and notice the change in latency. Feel free to go back and re-run mesh2DExamplePy\n",
    "subprocess.run([\"sst\", torusExamplePy])"
   ]
  }
 ],
 "metadata": {
  "kernelspec": {
   "display_name": "Python 3 (ipykernel)",
   "language": "python",
   "name": "python3"
  },
  "language_info": {
   "codemirror_mode": {
    "name": "ipython",
    "version": 3
   },
   "file_extension": ".py",
   "mimetype": "text/x-python",
   "name": "python",
   "nbconvert_exporter": "python",
   "pygments_lexer": "ipython3",
   "version": "3.10.12"
  }
 },
 "nbformat": 4,
 "nbformat_minor": 5
}
