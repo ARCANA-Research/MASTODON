{
 "cells": [
  {
   "cell_type": "markdown",
   "id": "9582f064-0f68-401f-997b-83d43c6049c1",
   "metadata": {},
   "source": [
    "\n",
    "# Let's Involve Every Node\n",
    "\n",
    "In this example, we instantiate 16 nodes. A value, **Sum**, is passed from **Node0** through all intermediate nodes to **Node15**.\n",
    "\n",
    "At each node, the sum is incremented, and passed along.\n",
    "\n",
    "Finally, we modify the network parameters to exacerbate the network overheads.\n",
    "\n",
    "<center>\n",
    "     <img src=\"Figures/Ring.png\" width=\"600\">\n",
    "</center>"
   ]
  },
  {
   "cell_type": "code",
   "execution_count": null,
   "id": "28b5a005-0d08-4b70-98fc-2762da923c1f",
   "metadata": {
    "scrolled": true
   },
   "outputs": [],
   "source": [
    "#Paths and imports\n",
    "\n",
    "import os, sys\n",
    "import subprocess \n",
    "\n",
    "networkDemoPath = os.getcwd()\n",
    "networkDemoPath = networkDemoPath + \"/../../network_demo\" #Insert the path the to the demo-code folder\n",
    "os.chdir(networkDemoPath)\n",
    "!source ~/.bashrc\n",
    "!!rm data.*.xml > /dev/null\n",
    "!!rm stat.*.xml > /dev/null\n",
    "\n",
    "!!pwd"
   ]
  },
  {
   "cell_type": "code",
   "execution_count": null,
   "id": "4049ce80-1dd4-4dd5-b3d0-73fbba55d2b8",
   "metadata": {
    "scrolled": true
   },
   "outputs": [],
   "source": [
    "#Book keeping for paths for topology demo\n",
    "#setup the paths\n",
    "ringExample = os.path.join(networkDemoPath,\"demo_ring16\")\n",
    "ringExamplePy = os.path.join(ringExample, \"ring16.py\")\n",
    "\n",
    "inNode1 = os.path.join(ringExample, \"node1.rc\")\n",
    "\n",
    "#Output Files\n",
    "outNode0 = os.path.join(networkDemoPath,\"data.0.xml\")\n",
    "outNode1 = os.path.join(networkDemoPath,\"data.1.xml\")\n",
    "outNode2 = os.path.join(networkDemoPath,\"data.2.xml\")\n",
    "outNode15 = os.path.join(networkDemoPath,\"data.15.xml\")\n",
    "!!ls $topologyExample"
   ]
  },
  {
   "cell_type": "code",
   "execution_count": null,
   "id": "76c2157a-d1f2-44d9-a7c6-cda24913fff8",
   "metadata": {
    "scrolled": true
   },
   "outputs": [],
   "source": [
    "#16 Nodes\n",
    "\n",
    "f = open(ringExamplePy, \"r\")\n",
    "print(f.read())\n",
    "f.close()"
   ]
  },
  {
   "cell_type": "code",
   "execution_count": null,
   "id": "57876a6e-e049-45ea-9cc9-70624034e09d",
   "metadata": {
    "scrolled": true
   },
   "outputs": [],
   "source": [
    "#Run this to see the Node program.\n",
    "\n",
    "f = open(inNode1, \"r\")\n",
    "print(f.read())\n",
    "f.close()"
   ]
  },
  {
   "cell_type": "code",
   "execution_count": null,
   "id": "870954dd-7b34-4736-bb19-b5c1dc31b8ff",
   "metadata": {
    "scrolled": true
   },
   "outputs": [],
   "source": [
    "subprocess.run([\"sst\", ringExamplePy])"
   ]
  },
  {
   "cell_type": "code",
   "execution_count": null,
   "id": "b6ded7bd-68ab-45a4-88a7-04081d8c7859",
   "metadata": {
    "scrolled": true
   },
   "outputs": [],
   "source": [
    "#Let's make a new ring example\n",
    "newRingExamplePy = os.path.join(ringExample, \"newRing16.py\")"
   ]
  },
  {
   "cell_type": "code",
   "execution_count": null,
   "id": "1a98e55b-326d-4fe0-98cf-e6363eb84d1d",
   "metadata": {
    "scrolled": true
   },
   "outputs": [],
   "source": [
    "%%writefile $newRingExamplePy\n",
    "\n",
    "import sst\n",
    "from sst.merlin import *\n",
    "from node_endpoint import NODE_Endpoint_Generator\n",
    "\n",
    "node_params = {\n",
    "         \"config_file\" : \"./test.config\",\n",
    "         \"max_idle\" : 1000,\n",
    "         \"num_peers\" : 16\n",
    "         }\n",
    "\n",
    "# change the program each node executes\n",
    "binary_dict = {}\n",
    "binary_dict[0]  = \"./demo_ring16/node0.rc\"\n",
    "binary_dict[1]  = \"./demo_ring16/node1.rc\"\n",
    "binary_dict[2]  = \"./demo_ring16/node2.rc\"\n",
    "binary_dict[3]  = \"./demo_ring16/node3.rc\"\n",
    "binary_dict[4]  = \"./demo_ring16/node4.rc\"\n",
    "binary_dict[5]  = \"./demo_ring16/node5.rc\"\n",
    "binary_dict[6]  = \"./demo_ring16/node6.rc\"\n",
    "binary_dict[7]  = \"./demo_ring16/node7.rc\"\n",
    "binary_dict[8]  = \"./demo_ring16/node8.rc\"\n",
    "binary_dict[9]  = \"./demo_ring16/node9.rc\"\n",
    "binary_dict[10]  = \"./demo_ring16/node10.rc\"\n",
    "binary_dict[11]  = \"./demo_ring16/node11.rc\"\n",
    "binary_dict[12]  = \"./demo_ring16/node12.rc\"\n",
    "binary_dict[13]  = \"./demo_ring16/node13.rc\"\n",
    "binary_dict[14]  = \"./demo_ring16/node14.rc\"\n",
    "binary_dict[15]  = \"./demo_ring16/node15.rc\"\n",
    "\n",
    "#Change any of the parameters\n",
    "sst.merlin._params[\"flit_size\"] = \"16B\"\n",
    "sst.merlin._params[\"link_bw\"] = \"1.0GB/s\" #CHANGE ME (4 -> 1)\n",
    "sst.merlin._params[\"xbar_bw\"] = \"1.0GB/s\" #CHANGE ME (4 -> 1)\n",
    "sst.merlin._params[\"input_latency\"] = \"0.0ns\"\n",
    "sst.merlin._params[\"output_latency\"] = \"0.0ns\"\n",
    "sst.merlin._params[\"input_buf_size\"] = \"16.0KB\"\n",
    "sst.merlin._params[\"output_buf_size\"] = \"16.0KB\"\n",
    "sst.merlin._params[\"link_lat\"] = \"3200ps\" #CHANGE ME (800 -> 3200)\n",
    "\n",
    "#Change the topology\n",
    "merlinmeshparams = {}\n",
    "merlinmeshparams[\"mesh.shape\"]=\"1x16\" # 1-D mesh\n",
    "merlinmeshparams[\"mesh.width\"]=\"1x1\"\n",
    "merlinmeshparams[\"mesh.local_ports\"]=\"1\"\n",
    "sst.merlin._params.update(merlinmeshparams)\n",
    "topo = topoMesh()\n",
    "topo.prepParams()\n",
    "\n",
    "endPoint = NODE_Endpoint_Generator(node_params, binary_dict)\n",
    "endPoint.prepParams()\n",
    "\n",
    "topo.setEndPoint(endPoint)\n",
    "topo.build()"
   ]
  },
  {
   "cell_type": "code",
   "execution_count": null,
   "id": "37764f25-b29b-4885-bbbd-23b63cbf0b2c",
   "metadata": {
    "scrolled": true
   },
   "outputs": [],
   "source": [
    "#Execute\n",
    "subprocess.run([\"sst\", newRingExamplePy])"
   ]
  },
  {
   "cell_type": "code",
   "execution_count": null,
   "id": "b795720d-28b8-4328-9ee4-560f30721ab6",
   "metadata": {
    "scrolled": true
   },
   "outputs": [],
   "source": [
    "#Check the output\n",
    "f = open(outNode15, \"r\")\n",
    "print(f.read())\n",
    "f.close()"
   ]
  }
 ],
 "metadata": {
  "kernelspec": {
   "display_name": "Python 3 (ipykernel)",
   "language": "python",
   "name": "python3"
  },
  "language_info": {
   "codemirror_mode": {
    "name": "ipython",
    "version": 3
   },
   "file_extension": ".py",
   "mimetype": "text/x-python",
   "name": "python",
   "nbconvert_exporter": "python",
   "pygments_lexer": "ipython3",
   "version": "3.10.12"
  }
 },
 "nbformat": 4,
 "nbformat_minor": 5
}
