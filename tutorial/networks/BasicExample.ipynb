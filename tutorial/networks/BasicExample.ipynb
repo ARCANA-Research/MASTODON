{
 "cells": [
  {
   "cell_type": "markdown",
   "id": "7ce9dcc9-9f13-4f23-8d81-a71feb33efd0",
   "metadata": {},
   "source": [
    "\n",
    "# 1) Integrating MASTODON with SST\n",
    "\n",
    "Requires:\n",
    "SST-Core and SST-Elements (and dependencies)---These should be pre-installed and added to your bashrc\n",
    "\n",
    "MASTODON (compile network-specific demo in network_demo folder)\n",
    "\n",
    "## 1.1) Simple Send and Receive\n",
    "\n",
    "Notable Files:\n",
    "* CPP wrapper for RACER (mainDir/src/sst)\n",
    "* stat.\\*.xml -> cycle-cycle performance\n",
    "* data.\\*.xml -> data for the nodes (in/outs)\n",
    "\n",
    "In this example, we instantiate two nodes that act as a sender (**Node0**) and receiver (**Node1**).\n",
    "\n",
    "**Node0** computes a value, and sends the result to **Node1**, which subsequently computes a multiplication.\n",
    "\n",
    "## 1.2) Modifying the Network Parameters\n",
    "\n",
    "Modify the network parameters (*basic.py*) and observe the effects."
   ]
  },
  {
   "cell_type": "markdown",
   "id": "ecde8d3c-2db0-4dae-9d7e-ef2beaaa6ce6",
   "metadata": {},
   "source": [
    "## 1.1) Simple Send and Receive"
   ]
  },
  {
   "cell_type": "code",
   "execution_count": null,
   "id": "e86ec941-fa24-41f8-aa44-e99e039a8d2f",
   "metadata": {
    "scrolled": true
   },
   "outputs": [],
   "source": [
    "#Paths and imports\n",
    "\n",
    "import os, sys\n",
    "import subprocess \n",
    "\n",
    "networkDemoPath = os.getcwd()\n",
    "networkDemoPath = networkDemoPath + \"/../../network_demo\" #Insert the path the to the demo-code folder\n",
    "os.chdir(networkDemoPath)\n",
    "!source ~/.bashrc\n",
    "!!rm data.*.xml > /dev/null\n",
    "!!rm stat.*.xml > /dev/null\n",
    "\n",
    "!!pwd #Output should be a path to the demo-code folder"
   ]
  },
  {
   "cell_type": "code",
   "execution_count": null,
   "id": "8ead08c0-ec25-4e13-80b6-6444062269b3",
   "metadata": {
    "scrolled": true
   },
   "outputs": [],
   "source": [
    "#This should list the demo_{examples} and node files (configs and endpoint)\n",
    "!!ls $networkDemoPath"
   ]
  },
  {
   "cell_type": "code",
   "execution_count": null,
   "id": "db7e85c2-167d-4834-8bab-f2772afd2f0b",
   "metadata": {
    "scrolled": true
   },
   "outputs": [],
   "source": [
    "configFile = os.path.join(networkDemoPath, \"test.config\")"
   ]
  },
  {
   "cell_type": "code",
   "execution_count": null,
   "id": "53990d6b-1462-4141-96ce-8eeced225c64",
   "metadata": {
    "scrolled": true
   },
   "outputs": [],
   "source": [
    "%%writefile $configFile\n",
    "\n",
    "// Tutorial config file \n",
    "// Use for debug, bookeeping\n",
    "// options: none, lane0, lane1, etc., controller, decoder, binary, uop_queue, inter_mover, intra_mover\n",
    "show = none\n",
    "// options: none, lane0, lane1, etc., controller, decoder, binary, uop_queue, inter_mover, intra_mover\n",
    "record_stat = inter_mover, controller\n",
    "// options: true, false\n",
    "record_data = true\n",
    "// input data source\n",
    "data_source = none\n",
    "// options: true, false\n",
    "disable_backend = false\n",
    "\n",
    "// Use for initialization\n",
    "// number of cycles before Node retire\n",
    "cycle_max_idle = 20\n",
    "// number of entries the instruction storage can hold\n",
    "entry_bin_size = 3000\n",
    "// number of cycles it takes the fetcher to fetch an instruction from instruction storage\n",
    "cycle_bin_out_lat = 1\n",
    "// number of cycles it takes for an instruction to be loaded into the instruction storage\n",
    "cycle_bin_in_lat = 1\n",
    "\n",
    "// Node configuration\n",
    "//number of lanes\n",
    "num_lane = 2\n",
    "// number of reg. files per lane\n",
    "num_regfile = 2\n",
    "// number of bits per register\n",
    "granularity = 8\n",
    "\n",
    "// PUM-Enabling Technology\n",
    "// options:\n",
    "// - ReRAM: IDEAL, NMP, MAGIC, OSCAR\n",
    "// - SRAM: IDEAL, NMP\n",
    "// - DRAM: AMBIT_ROWCLONE\n",
    "PUMtech map_style = MAGIC\n",
    "// Number of rows and columns in a memory array\n",
    "num_col = 64\n",
    "num_row = 2\n",
    "// Racer-Specific: Number of intermediate values or mask columns in a memory array\n",
    "num_imm = 17\n",
    "num_mask = 0\n",
    "// Racer-Specific: number of entry per uop queue\n",
    "entry_queue_size = 12\n",
    "\n",
    "//for all register, set the bits to 0 starting from random_bit_pos\n",
    "random_bit_pos = 3\n",
    "\n",
    "// type of data mover:\n",
    "// options: peer to peer (P2P), serial (SERIAL)\n",
    "cycle_mover_type = P2P\n",
    "// latency to perform MEM_COPY\n",
    "cycle_mover_COPY_lat = 16\n",
    "// latency to establish connection between lanes before data transfer\n",
    "cycle_mover_SETUP_lat = 1\n",
    "\n",
    "// MPI related config\n",
    "#Change these to see effects of generating MPI overheads\n",
    "cycle_mpi_send_payload_generation_lat = 8\n",
    "cycle_mpi_interupt_payload_generation_lat = 16\n",
    "cycle_mpi_send_store_back_lat = 8\n",
    "cycle_mpi_interupt_store_back_lat = 32\n",
    "cycle_ping_skip_duration = 0\n",
    "cycle_interupt_serve_wait = 1000\n",
    "bit_payload_size = 128\n",
    "bit_PING_size = 10\n",
    "bit_ACK_size = 10\n",
    "bit_DONE_size = 10\n",
    "\n",
    "\n",
    "// PPA configurations from real chip extraction\n",
    "process_name = Intel_16nm_SCIMBA\n",
    "vector_length = 128\n",
    "pJ_per_vec_primitive = 110\n",
    "cm2_total_area = 0.0025\n",
    "MHz_frequency = 133.33\n",
    "watt_thermal_limit = 80\n",
    "\n",
    "//Device Level Parameters\n",
    "device_model_sim = false\n",
    "memorisation = false\n",
    "verilog_filename = RRAM_VTEAM\n",
    "volt_MAGIC = -1.5\n",
    "volt_SET = -1.7\n",
    "volt_RESET = 0.4\n",
    "volt_ISO_BL = -0.3\n",
    "volt_ISO_WL = -0.3\n",
    "second_cycle_time = 0.001\n",
    "second_step_size = 10e-6\n",
    "ohm_R = 2.925\n",
    "farad_C = 1e-15\n",
    "state_threshold = 0.5\n",
    "\n",
    "// Playback configurations\n",
    "entry_playback_buffer_size = 1024\n",
    "num_max_active_regfile_per_lane = 1\n",
    "\n",
    "// Hyper-threading configurations\n",
    "num_smt_thread = 1"
   ]
  },
  {
   "cell_type": "code",
   "execution_count": null,
   "id": "010e9459-5d72-4e91-baae-c3aab621225a",
   "metadata": {
    "scrolled": true
   },
   "outputs": [],
   "source": [
    "#Book keeping for paths for basic demo\n",
    "\n",
    "basicExample = os.path.join(networkDemoPath,\"demo_basic\")\n",
    "basicExamplePy = os.path.join(basicExample, \"basic.py\")\n",
    "simpleSend = os.path.join(basicExample, \"simple_send.rc\")\n",
    "simpleRecv = os.path.join(basicExample, \"simple_recv.rc\")\n",
    "outNode0 = os.path.join(networkDemoPath,\"data.0.xml\")\n",
    "outNode1 = os.path.join(networkDemoPath,\"data.1.xml\")\n",
    "!!ls $basicExample"
   ]
  },
  {
   "cell_type": "code",
   "execution_count": null,
   "id": "ff99a609-89b0-45fe-88f9-32749c4a51f6",
   "metadata": {
    "scrolled": true
   },
   "outputs": [],
   "source": [
    "#Run this to see the 2-node network setup.\n",
    "\n",
    "f = open(basicExamplePy, 'r')\n",
    "print(f.read())\n",
    "f.close()"
   ]
  },
  {
   "cell_type": "code",
   "execution_count": null,
   "id": "18b3681c-9d3a-4955-b6f5-6bbfab83290a",
   "metadata": {
    "scrolled": true
   },
   "outputs": [],
   "source": [
    "#Run this to see the sender program.\n",
    "\n",
    "f = open(simpleSend, 'r')\n",
    "print(f.read())\n",
    "f.close()"
   ]
  },
  {
   "cell_type": "code",
   "execution_count": null,
   "id": "5875d59c-99c0-4cbf-a3e6-6a33ca77a3c6",
   "metadata": {
    "scrolled": true
   },
   "outputs": [],
   "source": [
    "#Run this to see the receiver program.\n",
    "\n",
    "f = open(simpleRecv, 'r')\n",
    "print(f.read())\n",
    "f.close()"
   ]
  },
  {
   "cell_type": "code",
   "execution_count": null,
   "id": "1d61047a-e6a3-427d-ba92-a0fb664b4b8d",
   "metadata": {
    "scrolled": true
   },
   "outputs": [],
   "source": [
    "#Execute\n",
    "subprocess.run([\"sst\", basicExamplePy])"
   ]
  },
  {
   "cell_type": "code",
   "execution_count": null,
   "id": "bb8d9c3e-9bb0-4a3a-b68d-f0512dc07621",
   "metadata": {
    "scrolled": true
   },
   "outputs": [],
   "source": [
    "#Take a look at the output file for Node0. (By default, we used lane 1, RF 1)\n",
    "\n",
    "n = open(outNode0, 'r')\n",
    "print(n.read())\n",
    "n.close()"
   ]
  },
  {
   "cell_type": "code",
   "execution_count": null,
   "id": "9f7d284d-c8f5-4dc3-94dd-cda359b62642",
   "metadata": {
    "scrolled": true
   },
   "outputs": [],
   "source": [
    "#Take a look at the output file for Node1. (By default, we used lane 1, RF 0)\n",
    "\n",
    "n = open(outNode1, 'r')\n",
    "print(n.read())\n",
    "n.close()"
   ]
  },
  {
   "cell_type": "markdown",
   "id": "aff1ab49-78e9-4c59-8de3-d09087a4654b",
   "metadata": {},
   "source": [
    "## 1.2) Modifying the Network Parameters\n",
    "\n",
    "Now you try: Make a \"new\" network using Basic Example. Note: **We have already modified the newBasicFile for the sake of demo purposes; however, feel free to explore how different parameters affect the simulation)\n",
    "\n",
    "We can rerun the same example and observe the difference in execution time."
   ]
  },
  {
   "cell_type": "code",
   "execution_count": null,
   "id": "babd6071-f1bb-41b1-801a-3c4bb57abb29",
   "metadata": {
    "scrolled": true
   },
   "outputs": [],
   "source": [
    "#Add the new basic test to your path (No need to change unless you've changed your existing paths between 1.1 and 1.2\n",
    "newBasicFile = os.path.join(basicExample, \"new_basic.py\")"
   ]
  },
  {
   "cell_type": "code",
   "execution_count": null,
   "id": "cf771d3f-8cb6-460a-9324-7c405590b9ee",
   "metadata": {
    "scrolled": true
   },
   "outputs": [],
   "source": [
    "%%writefile $newBasicFile\n",
    "\n",
    "import sst\n",
    "from sst.merlin import *\n",
    "from node_endpoint import NODE_Endpoint_Generator\n",
    "\n",
    "node_params = {\n",
    "         \"config_file\" : \"./test.config\",\n",
    "         \"max_idle\" : 1000,\n",
    "         \"num_peers\" : 2\n",
    "         }\n",
    "\n",
    "# change the binary accordingly\n",
    "binary_dict = {}\n",
    "binary_dict[0]  = \"./demo_basic/simple_send.rc\"\n",
    "binary_dict[1]  = \"./demo_basic/simple_recv.rc\"\n",
    "\n",
    "#Change any merlin._params value\n",
    "sst.merlin._params[\"flit_size\"] = \"16B\"\n",
    "sst.merlin._params[\"link_bw\"] = \"1.0GB/s\" #We pre-changed this\n",
    "sst.merlin._params[\"xbar_bw\"] = \"1.0GB/s\" #We pre-changed this\n",
    "sst.merlin._params[\"input_latency\"] = \"0.0ns\"\n",
    "sst.merlin._params[\"output_latency\"] = \"0.0ns\"\n",
    "sst.merlin._params[\"input_buf_size\"] = \"16.0KB\"\n",
    "sst.merlin._params[\"output_buf_size\"] = \"16.0KB\"\n",
    "sst.merlin._params[\"link_lat\"] = \"3200ps\" #We pre-changed this\n",
    "\n",
    "merlinmeshparams = {}\n",
    "merlinmeshparams[\"mesh.shape\"]=\"1x2\"\n",
    "merlinmeshparams[\"mesh.width\"]=\"1x1\"\n",
    "merlinmeshparams[\"mesh.local_ports\"]=\"1\"\n",
    "sst.merlin._params.update(merlinmeshparams)\n",
    "topo = topoMesh()\n",
    "topo.prepParams()\n",
    "\n",
    "endPoint = NODE_Endpoint_Generator(node_params, binary_dict)\n",
    "endPoint.prepParams()\n",
    "\n",
    "topo.setEndPoint(endPoint)\n",
    "topo.build()"
   ]
  },
  {
   "cell_type": "code",
   "execution_count": null,
   "id": "067ea2b9-1ccb-4255-8baa-5588db54374c",
   "metadata": {
    "scrolled": true
   },
   "outputs": [],
   "source": [
    "subprocess.run([\"sst\", newBasicFile])"
   ]
  },
  {
   "cell_type": "code",
   "execution_count": null,
   "id": "20fca086-df76-4b9e-a17a-3c27c394b9b8",
   "metadata": {
    "scrolled": true
   },
   "outputs": [],
   "source": [
    "#Take a look at the output file for Node0. (By default, we used lane 1, RF 1)\n",
    "\n",
    "n = open(outNode0, 'r')\n",
    "print(n.read())\n",
    "n.close()"
   ]
  },
  {
   "cell_type": "code",
   "execution_count": null,
   "id": "e936d043-88bb-4267-ab05-7adf4177ac42",
   "metadata": {
    "scrolled": true
   },
   "outputs": [],
   "source": [
    "#Take a look at the output file for Node1. (By default, we used lane 1, RF 0)\n",
    "\n",
    "n = open(outNode1, 'r')\n",
    "print(n.read())\n",
    "n.close()"
   ]
  }
 ],
 "metadata": {
  "kernelspec": {
   "display_name": "Python 3 (ipykernel)",
   "language": "python",
   "name": "python3"
  },
  "language_info": {
   "codemirror_mode": {
    "name": "ipython",
    "version": 3
   },
   "file_extension": ".py",
   "mimetype": "text/x-python",
   "name": "python",
   "nbconvert_exporter": "python",
   "pygments_lexer": "ipython3",
   "version": "3.10.12"
  }
 },
 "nbformat": 4,
 "nbformat_minor": 5
}
