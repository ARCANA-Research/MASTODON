{
 "cells": [
  {
   "cell_type": "code",
   "execution_count": null,
   "id": "88e299f3-ff9c-47cf-b18d-fb8a972f3189",
   "metadata": {},
   "outputs": [],
   "source": [
    "%%bash\n",
    "cp ./frozen/ADD.rc .\n",
    "cp ./frozen/test.config ."
   ]
  },
  {
   "cell_type": "markdown",
   "id": "dbc5e6f8-535f-4436-ae22-c0a47ffd51e4",
   "metadata": {},
   "source": [
    "# Demo 1: Changing Configuration Parameters\n",
    "In this demonstration, we will change see how changing the configuration parameters located in `./test.config` changes the MASTODON runtime behavior. We have provided the compiled `./mastodon` executable in this tutorial folder. To recompile, simply do `make`. To run a MASTODON simulation session with the provided configuration file, do `./mastodon ./test.config`"
   ]
  },
  {
   "cell_type": "code",
   "execution_count": null,
   "id": "d290b249-cce5-46f0-a344-f054fd35be3b",
   "metadata": {},
   "outputs": [],
   "source": [
    "%%bash\n",
    "make"
   ]
  },
  {
   "cell_type": "markdown",
   "id": "15f7a9dd-b641-467c-a35b-ef3ee26274c8",
   "metadata": {},
   "source": [
    "### Step 1: Examine the Current Configuration and Application Files\n",
    "Things to note: \n",
    "- `binary` is set to ./ADD.rc\n",
    "- `num_lane` is set to 1\n",
    "- `num_regfile` is set to 1\n",
    "- `granularity` is set to 8 (operations are executed on 8-bit operands)"
   ]
  },
  {
   "cell_type": "code",
   "execution_count": null,
   "id": "1123e482-d137-42d1-a127-76313d31eadd",
   "metadata": {},
   "outputs": [],
   "source": [
    "%load test.config"
   ]
  },
  {
   "cell_type": "code",
   "execution_count": null,
   "id": "0b97d8dc-765d-4af7-ba30-2f9f7e100691",
   "metadata": {},
   "outputs": [],
   "source": [
    "%load ADD.rc"
   ]
  },
  {
   "cell_type": "markdown",
   "id": "21773610-4402-4407-8ce5-b29f9c325f74",
   "metadata": {},
   "source": [
    "### Step 2: Execute the ADD.rc Program on a Node with 1 Lane, 1 Reg. File, 64x 8-bit Vector Registers\n",
    "Things to note:\n",
    "- MASTODON report what each component does every cycle\n",
    "- At the end, MASTODON reports that there are 72 NOR primitives that has taken place, while other primitives remain at 0"
   ]
  },
  {
   "cell_type": "code",
   "execution_count": null,
   "id": "ae2112ac-f4f2-4e65-b35b-d68e4b5b645b",
   "metadata": {},
   "outputs": [],
   "source": [
    "%%bash\n",
    "./mastodon ./test.config"
   ]
  },
  {
   "cell_type": "markdown",
   "id": "99392b47-50db-4e91-91fc-3cc1df0c16da",
   "metadata": {},
   "source": [
    "### Step 3: Changing the Logic Family from MAGIC (NOR only) to Ideal (all logic primitives available)\n",
    "In the configuration file, change `PUMtech map_style = MAGIC` to `PUMtech map_style = IDEAL`\n",
    "Things to note:\n",
    "- The execution time decreases when we change the logic family from MAGIC to IDEAL because fewer primitives are presented in the ADD recipe for IDEAL"
   ]
  },
  {
   "cell_type": "code",
   "execution_count": null,
   "id": "5236945a-2e65-4f2e-9233-75f3d61714bc",
   "metadata": {},
   "outputs": [],
   "source": [
    "%load test.config"
   ]
  },
  {
   "cell_type": "code",
   "execution_count": null,
   "id": "7caf121e-21a6-405f-aad8-796ed275f5b9",
   "metadata": {
    "scrolled": true
   },
   "outputs": [],
   "source": [
    "%%bash\n",
    "./mastodon ./test.config"
   ]
  },
  {
   "cell_type": "markdown",
   "id": "188f3ece-3171-4db3-95d8-6a47baa703b0",
   "metadata": {},
   "source": [
    "<img src=\"./img/Slide1.png\" alt=\"MAGIC vs. IDEAL Recipes\" style=\"width:1000px;height:600px;\">"
   ]
  },
  {
   "cell_type": "markdown",
   "id": "75acb5fe-e0c8-41cf-87ee-bd7790669b92",
   "metadata": {},
   "source": [
    "### Step 4: Changing the Program to Perform Multiplication\n",
    "Without needing to recompile the MASTODON source code, you can change the .RC file's content to make new applications.\n",
    "Things to note:\n",
    "- The simulated execution time for multiplication is longer than addition\n",
    "- The output result is no longer A + B, but rather A * B\n",
    "- The output can be overflowed if the input values are too large"
   ]
  },
  {
   "cell_type": "code",
   "execution_count": null,
   "id": "7b0d302a-b79c-48a3-ba73-7a7f24b61eef",
   "metadata": {},
   "outputs": [],
   "source": [
    "%load ADD.rc"
   ]
  },
  {
   "cell_type": "code",
   "execution_count": null,
   "id": "6b2d525c-db75-4f9a-b536-200d48cd3e79",
   "metadata": {},
   "outputs": [],
   "source": [
    "%%bash\n",
    "./mastodon ./test.config"
   ]
  },
  {
   "cell_type": "markdown",
   "id": "cbd6dff0-480a-46cf-91db-47b3ff3133bc",
   "metadata": {},
   "source": [
    "### Step 5: Changing the Granularity to Avoid Overflowing\n",
    "Replace `granularity = 8` with `granularity = 16`"
   ]
  },
  {
   "cell_type": "code",
   "execution_count": null,
   "id": "842bbb51-8b58-4637-9677-426bbd181494",
   "metadata": {},
   "outputs": [],
   "source": [
    "%load test.config"
   ]
  },
  {
   "cell_type": "code",
   "execution_count": null,
   "id": "ee7e99bb-8e53-4557-9c1c-a135098dbce0",
   "metadata": {},
   "outputs": [],
   "source": [
    "%%bash\n",
    "./mastodon ./test.config"
   ]
  }
 ],
 "metadata": {
  "kernelspec": {
   "display_name": "Python 3 (ipykernel)",
   "language": "python",
   "name": "python3"
  },
  "language_info": {
   "codemirror_mode": {
    "name": "ipython",
    "version": 3
   },
   "file_extension": ".py",
   "mimetype": "text/x-python",
   "name": "python",
   "nbconvert_exporter": "python",
   "pygments_lexer": "ipython3",
   "version": "3.10.12"
  }
 },
 "nbformat": 4,
 "nbformat_minor": 5
}
