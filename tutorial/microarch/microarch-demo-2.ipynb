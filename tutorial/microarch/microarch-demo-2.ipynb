{
 "cells": [
  {
   "cell_type": "code",
   "execution_count": null,
   "id": "cf6c3873-7a53-421c-becd-9a439f2fdbb6",
   "metadata": {},
   "outputs": [],
   "source": [
    "import os\n",
    "import subprocess\n",
    "import numpy as np\n",
    "import matplotlib.pyplot as plt\n",
    "from PIL import Image\n",
    "from IPython.display import Video\n",
    "import xml.etree.ElementTree as ET"
   ]
  },
  {
   "cell_type": "markdown",
   "id": "3fb6dd41-0248-4c04-b1e1-bc7746e87371",
   "metadata": {},
   "source": [
    "# Demo 2: Creating an Application-Specific Data Layout\n",
    "In this demonstration, we will go over how to create an XML file that describes the data layout specifically designed for 2D DFT. PUM-friendly data layout is a critical part of executing an application on any PUM system. In Demo 1, we have gone through how to execute a program in MASTODON and gather statistics like simulated execution time. Combining that with Demo 2, MASTODON can provide a testbed for research in automatic data layout engines, compile-time routines and infrastructures that can aid this process."
   ]
  },
  {
   "cell_type": "markdown",
   "id": "81ed7e7c-bed1-4b91-8078-deec3bdb86fe",
   "metadata": {},
   "source": [
    "### Step 1: Generating the Input Data\n",
    "\n",
    "There are 2 types of input neccessary for the 2D DFT application: the DFT matrix and the input image\n",
    "\n",
    "Things to note:\n",
    "- We will use a 64x64 input image\n",
    "- We will perform DFT on a node with 8 lanes, 64 register files per lane, 128 registers per register file, 64 elements per register"
   ]
  },
  {
   "cell_type": "code",
   "execution_count": null,
   "id": "14e9cec4-7650-4f7b-9265-55fc0dfb8523",
   "metadata": {},
   "outputs": [],
   "source": [
    "def create_dft_matrix(N):\n",
    "    PI = np.pi\n",
    "    real_matrix = np.zeros((N, N), dtype=np.int32)\n",
    "    imag_matrix = np.zeros((N, N), dtype=np.int32)\n",
    "    \n",
    "    for k in range(N):\n",
    "        for n in range(N):\n",
    "            angle = -2 * PI * k * n / N\n",
    "            scale = 512\n",
    "            \n",
    "            realval = int(np.cos(angle) * scale) + scale\n",
    "            imagval = int(np.sin(angle) * scale) + scale\n",
    "            \n",
    "            real_matrix[k][n] = realval\n",
    "            imag_matrix[k][n] = imagval\n",
    "    \n",
    "    return real_matrix, imag_matrix\n",
    "\n",
    "def load_image_matrix(N):\n",
    "    with Image.open(\"./img/ichiro.jpg\") as img:\n",
    "    # Resize image to 64x64 pixels\n",
    "        img_resized = img.resize((N, N))\n",
    "        img_gray = img_resized.convert(\"L\")\n",
    "    pixels = np.asarray(list(img_gray.getdata()))\n",
    "    return pixels.reshape((N, N))\n",
    "\n",
    "N = 64\n",
    "real_matrix, imag_matrix = create_dft_matrix(N)\n",
    "input_image = load_image_matrix(N)\n",
    "plt.subplot(1, 2, 1)\n",
    "plt.imshow(real_matrix, cmap='gray', interpolation='none')\n",
    "plt.subplot(1, 2, 2)\n",
    "plt.imshow(input_image, cmap = 'gray',interpolation='none')"
   ]
  },
  {
   "cell_type": "markdown",
   "id": "e452adf9-8bee-4cd6-a6ea-f23e4a4453ae",
   "metadata": {},
   "source": [
    "### Step 2: Populating the 4D Input Array\n",
    "A location of an element in a node can be dereferenced using its Lane, Vector Register File, Vector Register Index, and Element Index. Hence, we create a 4-D array called `data_in` and populate the input data (with user-defined layout)"
   ]
  },
  {
   "cell_type": "code",
   "execution_count": null,
   "id": "4fca2a98-c8a4-4ba8-baf0-0b58b5a822a4",
   "metadata": {},
   "outputs": [],
   "source": [
    "L = 8    # Number of lanes in a node\n",
    "F = 64   # Number of reg. files in a lane\n",
    "C = 128  # Number of vector registers in a reg. file\n",
    "R = 64   # Nimber of element in a vector register\n",
    "\n",
    "# Initialize the 4D list with zeros\n",
    "data_in = [[[[0 for _ in range(R)] for _ in range(C)] for _ in range(F)] for _ in range(L)]\n",
    "\n",
    "# Populate real dft matrix in regfile 0 - 63, for register 0 - 63, lane 0\n",
    "for f in range(64):\n",
    "    for c in range(64):\n",
    "        for r in range(R):\n",
    "            data_in[0][f][c][r] = real_matrix[c][r]\n",
    "\n",
    "# Populate imaginary dft matrix in regfile 0 - 63, for register 0 - 63, lane 1\n",
    "for f in range(64):\n",
    "    for c in range(64):\n",
    "        for r in range(R):\n",
    "            data_in[1][f][c][r] = imag_matrix[c][r]\n",
    "\n",
    "# Populate the input signal in regfile 0 - 63, for register 64 - 127, lane 0 and 1\n",
    "for l in range(2):\n",
    "    for f in range(64):\n",
    "        for c in range(64):\n",
    "            for r in range(R):\n",
    "                data_in[l][f][c + 64][r] = input_image[f][c]\n",
    "\n",
    "# Populate the transposed matrix in regfile 0 - 63, for register 64 - 127, lane 2 and 3\n",
    "for f in range(64):\n",
    "    for c in range(64):\n",
    "        for r in range(R):\n",
    "            data_in[2][f][c + 64][r] = real_matrix.T[f][c]\n",
    "            data_in[3][f][c + 64][r] = imag_matrix.T[f][c]"
   ]
  },
  {
   "cell_type": "markdown",
   "id": "5d6cf30b-b7f2-4a8f-b14a-3d37d546d2cc",
   "metadata": {},
   "source": [
    "### Step 3: Visualizing the Node's Content\n",
    "Things to note:\n",
    "- Based on the mapping above, we should see the DFT matrix occupying the first 64 registers of every register files\n",
    "- One column of the input image is transpoised and replicated to every row of register 64 - 127 of the same register files"
   ]
  },
  {
   "cell_type": "code",
   "execution_count": null,
   "id": "2c8ebbbb-9bb9-42a0-a595-1efb5fd783b2",
   "metadata": {},
   "outputs": [],
   "source": [
    "plt.subplot(2, 2, 1)\n",
    "plt.title(\"Lane 0, Reg. File 0\")\n",
    "plt.imshow(np.array(data_in[0][0]).T, cmap='gray', interpolation='none')\n",
    "plt.subplot(2, 2, 2)\n",
    "plt.title(\"Lane 0, Reg. File 8\")\n",
    "plt.imshow(np.array(data_in[0][8]).T, cmap='gray', interpolation='none')\n",
    "plt.subplot(2, 2, 3)\n",
    "plt.title(\"Lane 0, Reg. File 16\")\n",
    "plt.imshow(np.array(data_in[0][16]).T, cmap='gray', interpolation='none')\n",
    "plt.subplot(2, 2, 4)\n",
    "plt.title(\"Lane 0, Reg. File 32\")\n",
    "plt.imshow(np.array(data_in[0][32]).T, cmap='gray', interpolation='none')"
   ]
  },
  {
   "cell_type": "markdown",
   "id": "6ad57a2d-be11-4312-93b0-3b253698ef9e",
   "metadata": {},
   "source": [
    "### Step 4: Creating the XML MASTODON Input from the 4-D Array\n",
    "Things to note:\n",
    "- Without loss of generality, you can create the XML file and the 4-D array in any language you want\n",
    "- As long as the generated XML file is in the correct format, it can be fed to MASTODON"
   ]
  },
  {
   "cell_type": "code",
   "execution_count": null,
   "id": "6f581815-07ca-4c06-baa6-4aa45edc57c3",
   "metadata": {},
   "outputs": [],
   "source": [
    "def create_xml(data_in, file_addr, num_lane, num_regfile, num_col, num_row):\n",
    "    root = ET.Element(\"root\")\n",
    "    node = ET.SubElement(root, \"in\")\n",
    "    \n",
    "    for l in range(num_lane):\n",
    "        lane_node = ET.SubElement(node, f\"L{l}\")\n",
    "        for f in range(num_regfile):\n",
    "            regfile_node = ET.SubElement(lane_node, f\"RF{f}\")\n",
    "            for c in range(num_col):\n",
    "                data = \" \".join(str(data_in[l][f][c][r]) for r in range(num_row))\n",
    "                ET.SubElement(regfile_node, f\"C{c}\").text = data\n",
    "    \n",
    "    tree = ET.ElementTree(root)\n",
    "    tree.write(file_addr, encoding='utf-8', xml_declaration=True)\n",
    "\n",
    "create_xml(data_in, \"DFT.xml\", L, F, C, R)"
   ]
  },
  {
   "cell_type": "markdown",
   "id": "6a90c16d-f6d2-456c-9f1e-c530dc664366",
   "metadata": {},
   "source": [
    "### Step 5: Running the DFT application\n",
    "The DFT applications will take around 30-40 minutes to run. For your convenience, we have created a GoogleTest suite so that you can run different tests (including DFT) yourself. To run the DFT example, under the `gtest` folder, do `./gtest --gtest_filter=*DFT2D`. You can see the test code under `./gtest/suite/SingleNode_Microkernels.cpp`. After the test is complete, you can run the following code to view the output of DFT."
   ]
  },
  {
   "cell_type": "code",
   "execution_count": null,
   "id": "8a58d2dc-7c27-47b8-b4e2-393156274e29",
   "metadata": {},
   "outputs": [],
   "source": [
    "def read_text_file_to_array(filename):\n",
    "    with open(filename, 'r') as file:\n",
    "        lines = file.readlines()\n",
    "\n",
    "    # Convert lines of text into a 2D list of integers\n",
    "    data = [list(map(int, line.split())) for line in lines]\n",
    "    return np.abs(np.array(np.array(data)[1:]).T[1:])\n",
    "\n",
    "def normalize_pixel_values(array):\n",
    "    # Normalize pixel values to range [0, 255] if necessary\n",
    "    min_val = np.min(array)\n",
    "    max_val = np.max(array)\n",
    "    if min_val < 0 or max_val > 255:\n",
    "        array = 255 * (array - min_val) / (max_val - min_val)\n",
    "    return array.astype(np.uint8)\n",
    "    \n",
    "def convert_negative(array):\n",
    "    output = []\n",
    "    for row in array:\n",
    "        converted_row = []\n",
    "        for elem in row:\n",
    "            if (elem > 4294967296):\n",
    "                elem = ~elem + 1\n",
    "            converted_row.append(elem)\n",
    "        output.append(converted_row)\n",
    "    return np.asarray(output)\n",
    "    \n",
    "def display_image(array):\n",
    "    plt.imshow(array, cmap='gray', vmin=0, vmax=255)\n",
    "    plt.axis('off')  # Turn off axis numbers and ticks\n",
    "    plt.show()\n",
    "\n",
    "# Example usage\n",
    "filename = '../../gtest/suite/dft-isca/output.txt'  # Replace with your text file name\n",
    "pixel_array = read_text_file_to_array(filename)\n",
    "normalized_array = normalize_pixel_values(pixel_array)\n",
    "display_image(normalized_array)"
   ]
  }
 ],
 "metadata": {
  "kernelspec": {
   "display_name": "Python 3 (ipykernel)",
   "language": "python",
   "name": "python3"
  },
  "language_info": {
   "codemirror_mode": {
    "name": "ipython",
    "version": 3
   },
   "file_extension": ".py",
   "mimetype": "text/x-python",
   "name": "python",
   "nbconvert_exporter": "python",
   "pygments_lexer": "ipython3",
   "version": "3.10.12"
  }
 },
 "nbformat": 4,
 "nbformat_minor": 5
}
